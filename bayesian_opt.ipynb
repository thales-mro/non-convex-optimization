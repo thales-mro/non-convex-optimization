{
 "cells": [
  {
   "cell_type": "code",
   "execution_count": 132,
   "metadata": {},
   "outputs": [],
   "source": [
    "import seaborn as sns\n",
    "import pandas as pd\n",
    "from matplotlib import pyplot as plt\n",
    "import numpy as np\n",
    "\n",
    "from sklearn.datasets import load_iris\n",
    "from sklearn.model_selection import cross_val_score\n",
    "from sklearn.naive_bayes import BernoulliNB\n",
    "from sklearn.svm import SVR\n",
    "\n",
    "from hyperopt import fmin, tpe, hp, SparkTrials, STATUS_OK, Trials\n",
    "\n",
    "import mlflow\n",
    "import findspark"
   ]
  },
  {
   "cell_type": "code",
   "execution_count": 133,
   "metadata": {},
   "outputs": [],
   "source": [
    "findspark.init()"
   ]
  },
  {
   "cell_type": "code",
   "execution_count": 134,
   "metadata": {},
   "outputs": [],
   "source": [
    "Xtreino = np.load(\"Xtreino5.npy\")\n",
    "Ytreino = np.load(\"ytreino5.npy\")\n",
    "\n",
    "Xteste = np.load(\"Xteste5.npy\")\n",
    "Yteste = np.load(\"yteste5.npy\")\n",
    "\n",
    "def erro_absoluto_medio(X, Y): #Verificar se isso ta certo\n",
    "  n = np.size(X)\n",
    "  return (np.sum(abs(X-Y)))/n"
   ]
  },
  {
   "cell_type": "code",
   "execution_count": 135,
   "metadata": {},
   "outputs": [],
   "source": [
    "def objective(params):\n",
    "    clf = SVR(kernel='rbf')\n",
    "    accuracy = cross_val_score(clf, Xtreino, Ytreino).mean()\n",
    "    return {'loss': accuracy, 'status': STATUS_OK}"
   ]
  },
  {
   "cell_type": "code",
   "execution_count": 137,
   "metadata": {},
   "outputs": [],
   "source": [
    "search_space = hp.choice('classifier_type' , [\n",
    "    {\n",
    "        'type': 'naive_bayes',\n",
    "    },\n",
    "    {\n",
    "        #'type': 'svm',\n",
    "        'C': hp.loguniform('C', np.log(2**-5), np.log(2**15)),\n",
    "        #'C': hp.uniform('C', 2e-5, 2e15),\n",
    "        #'gamma': hp.uniform('gamma', 2e-15, 2e3),\n",
    "        'gamma': hp.loguniform('gamma', np.log(2**-15), np.log(2**3)),\n",
    "        'epsilon': hp.uniform('epsilon', 0.05, 1.0),\n",
    "        #'kernel': 'rbf'\n",
    "    }\n",
    "])"
   ]
  },
  {
   "cell_type": "code",
   "execution_count": 138,
   "metadata": {},
   "outputs": [],
   "source": [
    "algo=tpe.suggest\n",
    "\n",
    "spark_trials = SparkTrials(parallelism=2)#, timeout=10000)"
   ]
  },
  {
   "cell_type": "code",
   "execution_count": 139,
   "metadata": {},
   "outputs": [
    {
     "name": "stdout",
     "output_type": "stream",
     "text": [
      " 99%|█████████▉| 124/125 [02:08<00:01,  1.04s/trial, best loss: 0.20514321425759513]\n"
     ]
    },
    {
     "name": "stderr",
     "output_type": "stream",
     "text": [
      "Total Trials: 125: 125 succeeded, 0 failed, 0 cancelled.\n"
     ]
    }
   ],
   "source": [
    "with mlflow.start_run():\n",
    "    best_result = fmin(fn=objective, space=search_space, algo=algo, max_evals=125, trials=spark_trials)\n"
   ]
  },
  {
   "cell_type": "code",
   "execution_count": 140,
   "metadata": {},
   "outputs": [
    {
     "name": "stdout",
     "output_type": "stream",
     "text": [
      "best parameters:\n",
      "{'C': 0.1716706997904996, 'classifier_type': 1, 'epsilon': 0.8019768761573266, 'gamma': 0.12328797843241332}\n"
     ]
    }
   ],
   "source": [
    "    print('best parameters:')\n",
    "    print(best_result)"
   ]
  },
  {
   "cell_type": "code",
   "execution_count": 136,
   "metadata": {},
   "outputs": [
    {
     "ename": "NameError",
     "evalue": "name 'clf' is not defined",
     "output_type": "error",
     "traceback": [
      "\u001b[0;31m---------------------------------------------------------------------------\u001b[0m",
      "\u001b[0;31mNameError\u001b[0m                                 Traceback (most recent call last)",
      "\u001b[0;32m<ipython-input-136-1de98a197ba0>\u001b[0m in \u001b[0;36m<module>\u001b[0;34m\u001b[0m\n\u001b[0;32m----> 1\u001b[0;31m \u001b[0mprint\u001b[0m\u001b[0;34m(\u001b[0m\u001b[0mclf\u001b[0m\u001b[0;34m)\u001b[0m\u001b[0;34m\u001b[0m\u001b[0;34m\u001b[0m\u001b[0m\n\u001b[0m",
      "\u001b[0;31mNameError\u001b[0m: name 'clf' is not defined"
     ]
    }
   ],
   "source": [
    "print(clf)"
   ]
  },
  {
   "cell_type": "code",
   "execution_count": null,
   "metadata": {},
   "outputs": [],
   "source": []
  }
 ],
 "metadata": {
  "kernelspec": {
   "display_name": "env",
   "language": "python",
   "name": "env"
  },
  "language_info": {
   "codemirror_mode": {
    "name": "ipython",
    "version": 3
   },
   "file_extension": ".py",
   "mimetype": "text/x-python",
   "name": "python",
   "nbconvert_exporter": "python",
   "pygments_lexer": "ipython3",
   "version": "3.6.9"
  }
 },
 "nbformat": 4,
 "nbformat_minor": 2
}
